{
  "nbformat": 4,
  "nbformat_minor": 0,
  "metadata": {
    "colab": {
      "name": "Assignment 05.ipynb",
      "version": "0.3.2",
      "provenance": [],
      "collapsed_sections": [
        "KW2wqGxFpeWH"
      ],
      "include_colab_link": true
    },
    "kernelspec": {
      "name": "python3",
      "display_name": "Python 3"
    },
    "accelerator": "GPU"
  },
  "cells": [
    {
      "cell_type": "markdown",
      "metadata": {
        "id": "view-in-github",
        "colab_type": "text"
      },
      "source": [
        "<a href=\"https://colab.research.google.com/github/chandrashekarswamy/EVA-Phase-01/blob/master/Assignment%2005/Assignment_05.ipynb\" target=\"_parent\"><img src=\"https://colab.research.google.com/assets/colab-badge.svg\" alt=\"Open In Colab\"/></a>"
      ]
    },
    {
      "cell_type": "markdown",
      "metadata": {
        "id": "aNyZv-Ec52ot",
        "colab_type": "text"
      },
      "source": [
        "# **Import Libraries and modules**"
      ]
    },
    {
      "cell_type": "markdown",
      "metadata": {
        "id": "KW2wqGxFpeWH",
        "colab_type": "text"
      },
      "source": [
        "### PLAN to improvise\n",
        "\n",
        "1.  Use batch normalization to improve the accuracy.\n",
        "2.  Use LR schedular\n",
        "3.  Play with number of epoches & Batch size.\n"
      ]
    },
    {
      "cell_type": "code",
      "metadata": {
        "id": "3m3w1Cw49Zkt",
        "colab_type": "code",
        "colab": {}
      },
      "source": [
        "# https://keras.io/\n",
        "!pip install -q keras\n",
        "import keras"
      ],
      "execution_count": 0,
      "outputs": []
    },
    {
      "cell_type": "markdown",
      "metadata": {
        "id": "Fi1qQc7SpZoV",
        "colab_type": "text"
      },
      "source": [
        ""
      ]
    },
    {
      "cell_type": "code",
      "metadata": {
        "id": "Eso6UHE080D4",
        "colab_type": "code",
        "colab": {}
      },
      "source": [
        "#importing all the necessary libraries \n",
        "import numpy as np\n",
        "\n",
        "from keras.models import Sequential\n",
        "from keras.layers import Dense, Dropout, Activation, Flatten, Add, BatchNormalization\n",
        "from keras.layers import Convolution2D, MaxPooling2D\n",
        "from keras.utils import np_utils\n",
        "\n",
        "from keras.preprocessing.image import ImageDataGenerator\n",
        "from keras.callbacks import EarlyStopping, ModelCheckpoint, ReduceLROnPlateau\n",
        "from keras.layers.normalization import BatchNormalization\n",
        "from keras.regularizers import l2\n",
        "\n",
        "#mnist is the data base (contains labled dataset)\n",
        "from keras.datasets import mnist"
      ],
      "execution_count": 0,
      "outputs": []
    },
    {
      "cell_type": "markdown",
      "metadata": {
        "id": "zByEi95J86RD",
        "colab_type": "text"
      },
      "source": [
        "### Load pre-shuffled MNIST data into train and test sets"
      ]
    },
    {
      "cell_type": "code",
      "metadata": {
        "id": "7eRM0QWN83PV",
        "colab_type": "code",
        "colab": {}
      },
      "source": [
        "#Loading the training and test sets to X_train, y_train and X_test and y_test\n",
        "#Respectively from mnist data base\n",
        "(X_train, y_train), (X_test, y_test) = mnist.load_data()"
      ],
      "execution_count": 0,
      "outputs": []
    },
    {
      "cell_type": "code",
      "metadata": {
        "id": "4a4Be72j8-ZC",
        "colab_type": "code",
        "outputId": "168206c6-a314-4d1a-b095-a599e030b6ee",
        "colab": {
          "base_uri": "https://localhost:8080/",
          "height": 302
        }
      },
      "source": [
        "#Print the training data using matplot library,\n",
        "#matplotlib inline is needed when we run using browser\n",
        "print (X_train.shape)\n",
        "from matplotlib import pyplot as plt\n",
        "%matplotlib inline\n",
        "\n",
        "#See the share of first image\n",
        "plt.imshow(X_train[0])"
      ],
      "execution_count": 55,
      "outputs": [
        {
          "output_type": "stream",
          "text": [
            "(60000, 28, 28)\n"
          ],
          "name": "stdout"
        },
        {
          "output_type": "execute_result",
          "data": {
            "text/plain": [
              "<matplotlib.image.AxesImage at 0x7f9be89066a0>"
            ]
          },
          "metadata": {
            "tags": []
          },
          "execution_count": 55
        },
        {
          "output_type": "display_data",
          "data": {
            "image/png": "[encoded data removed]",
            "text/plain": [
              "<Figure size 432x288 with 1 Axes>"
            ]
          },
          "metadata": {
            "tags": []
          }
        }
      ]
    },
    {
      "cell_type": "code",
      "metadata": {
        "id": "dkmprriw9AnZ",
        "colab_type": "code",
        "colab": {}
      },
      "source": [
        "#Kears need (n, width, hight, depth) mnist have only (n, w, h) in mnist\n",
        "#we know its a Grey scale so we keep depth as 1\n",
        "X_train = X_train.reshape(X_train.shape[0], 28, 28,1)\n",
        "X_test = X_test.reshape(X_test.shape[0], 28, 28,1)"
      ],
      "execution_count": 0,
      "outputs": []
    },
    {
      "cell_type": "code",
      "metadata": {
        "id": "X2m4YS4E9CRh",
        "colab_type": "code",
        "colab": {}
      },
      "source": [
        "#convert our data type to float32 \n",
        "#Normalize values to the range [0, 1].\n",
        "#X_train = X_train.astype('float32')\n",
        "#X_test = X_test.astype('float32')\n",
        "#X_train /= 255\n",
        "#X_test /= 255"
      ],
      "execution_count": 0,
      "outputs": []
    },
    {
      "cell_type": "code",
      "metadata": {
        "id": "0Mn0vAYD9DvB",
        "colab_type": "code",
        "outputId": "d45908cc-42c5-4db5-f130-4a67bfe3928d",
        "colab": {
          "base_uri": "https://localhost:8080/",
          "height": 34
        }
      },
      "source": [
        "#Print 10 values of training dataset\n",
        "y_train[:10]"
      ],
      "execution_count": 58,
      "outputs": [
        {
          "output_type": "execute_result",
          "data": {
            "text/plain": [
              "array([5, 0, 4, 1, 9, 2, 1, 3, 1, 4], dtype=uint8)"
            ]
          },
          "metadata": {
            "tags": []
          },
          "execution_count": 58
        }
      ]
    },
    {
      "cell_type": "markdown",
      "metadata": {
        "id": "fcv4cDgazoWv",
        "colab_type": "text"
      },
      "source": [
        ""
      ]
    },
    {
      "cell_type": "code",
      "metadata": {
        "id": "ZG8JiXR39FHC",
        "colab_type": "code",
        "colab": {}
      },
      "source": [
        "# Convert 1-dimensional class arrays to 10-dimensional class matrices\n",
        "Y_train = np_utils.to_categorical(y_train, 10)\n",
        "Y_test = np_utils.to_categorical(y_test, 10)"
      ],
      "execution_count": 0,
      "outputs": []
    },
    {
      "cell_type": "code",
      "metadata": {
        "id": "fYlFRvKS9HMB",
        "colab_type": "code",
        "outputId": "eac62155-4001-47fc-dd68-f9940c326b1b",
        "colab": {
          "base_uri": "https://localhost:8080/",
          "height": 185
        }
      },
      "source": [
        "#print the training data set after converting 1-D array to 10-D array\n",
        "Y_train[:10]\n"
      ],
      "execution_count": 60,
      "outputs": [
        {
          "output_type": "execute_result",
          "data": {
            "text/plain": [
              "array([[0., 0., 0., 0., 0., 1., 0., 0., 0., 0.],\n",
              "       [1., 0., 0., 0., 0., 0., 0., 0., 0., 0.],\n",
              "       [0., 0., 0., 0., 1., 0., 0., 0., 0., 0.],\n",
              "       [0., 1., 0., 0., 0., 0., 0., 0., 0., 0.],\n",
              "       [0., 0., 0., 0., 0., 0., 0., 0., 0., 1.],\n",
              "       [0., 0., 1., 0., 0., 0., 0., 0., 0., 0.],\n",
              "       [0., 1., 0., 0., 0., 0., 0., 0., 0., 0.],\n",
              "       [0., 0., 0., 1., 0., 0., 0., 0., 0., 0.],\n",
              "       [0., 1., 0., 0., 0., 0., 0., 0., 0., 0.],\n",
              "       [0., 0., 0., 0., 1., 0., 0., 0., 0., 0.]], dtype=float32)"
            ]
          },
          "metadata": {
            "tags": []
          },
          "execution_count": 60
        }
      ]
    },
    {
      "cell_type": "code",
      "metadata": {
        "id": "osKqT73Q9JJB",
        "colab_type": "code",
        "outputId": "a3e4a822-9ee2-4933-fe96-397850b0871e",
        "colab": {
          "base_uri": "https://localhost:8080/",
          "height": 860
        }
      },
      "source": [
        "from keras.layers import Activation\n",
        "#Declare the sequential keras model\n",
        "model = Sequential()\n",
        "\n",
        "#we are adding the first convolution layer with input of (w,h,d)\n",
        "#32 = numer of convolutions(kernels), 3,3 is row col of kernels so its 3*3\n",
        "#Activation = 'relu' this will be used to normalise the values between 0-1\n",
        "#Receptive field of this layer = 3*3 input channel = 28*28*1\n",
        "model.add(Convolution2D(12, 3, 3, kernel_regularizer=l2(0.01), bias_regularizer=l2(0.01), activation='relu', input_shape=(28,28,1))) #26\n",
        "\n",
        "model.add(BatchNormalization())\n",
        "model.add(Convolution2D(12, 3, 3, kernel_regularizer=l2(0.01), bias_regularizer=l2(0.01), activation='relu'))  #24\n",
        "\n",
        "model.add(BatchNormalization())\n",
        "model.add(Convolution2D(12, 3, 3, kernel_regularizer=l2(0.01), bias_regularizer=l2(0.01), activation='relu'))  #22\n",
        "\n",
        "model.add(Convolution2D(16, 1, activation='relu'))     #22\n",
        "model.add(MaxPooling2D(pool_size=(2, 2)))              #11\n",
        "\n",
        "model.add(BatchNormalization())\n",
        "model.add(Convolution2D(12, 3, 3, kernel_regularizer=l2(0.01), bias_regularizer=l2(0.01), activation='relu'))  #9\n",
        "\n",
        "model.add(BatchNormalization())\n",
        "model.add(Convolution2D(12, 3, 3, kernel_regularizer=l2(0.01), bias_regularizer=l2(0.01), activation='relu'))  #7\n",
        "\n",
        "model.add(BatchNormalization())\n",
        "model.add(Convolution2D(16, 3, 3, kernel_regularizer=l2(0.01), bias_regularizer=l2(0.01), activation='relu'))  #5\n",
        "\n",
        "model.add(Convolution2D(10, 5, 5))                     #1\n",
        "\n",
        "#result should be converted back to 1-D array, to show as 0-9\n",
        "model.add(Flatten())\n",
        "model.add(Activation('softmax'))\n",
        "\n",
        "#will give the summary of the model\n",
        "model.summary()"
      ],
      "execution_count": 61,
      "outputs": [
        {
          "output_type": "stream",
          "text": [
            "/usr/local/lib/python3.6/dist-packages/ipykernel_launcher.py:9: UserWarning: Update your `Conv2D` call to the Keras 2 API: `Conv2D(12, (3, 3), kernel_regularizer=<keras.reg..., bias_regularizer=<keras.reg..., activation=\"relu\", input_shape=(28, 28, 1...)`\n",
            "  if __name__ == '__main__':\n",
            "/usr/local/lib/python3.6/dist-packages/ipykernel_launcher.py:12: UserWarning: Update your `Conv2D` call to the Keras 2 API: `Conv2D(12, (3, 3), kernel_regularizer=<keras.reg..., bias_regularizer=<keras.reg..., activation=\"relu\")`\n",
            "  if sys.path[0] == '':\n",
            "/usr/local/lib/python3.6/dist-packages/ipykernel_launcher.py:15: UserWarning: Update your `Conv2D` call to the Keras 2 API: `Conv2D(12, (3, 3), kernel_regularizer=<keras.reg..., bias_regularizer=<keras.reg..., activation=\"relu\")`\n",
            "  from ipykernel import kernelapp as app\n",
            "/usr/local/lib/python3.6/dist-packages/ipykernel_launcher.py:21: UserWarning: Update your `Conv2D` call to the Keras 2 API: `Conv2D(12, (3, 3), kernel_regularizer=<keras.reg..., bias_regularizer=<keras.reg..., activation=\"relu\")`\n"
          ],
          "name": "stderr"
        },
        {
          "output_type": "stream",
          "text": [
            "_________________________________________________________________\n",
            "Layer (type)                 Output Shape              Param #   \n",
            "=================================================================\n",
            "conv2d_25 (Conv2D)           (None, 26, 26, 12)        120       \n",
            "_________________________________________________________________\n",
            "batch_normalization_18 (Batc (None, 26, 26, 12)        48        \n",
            "_________________________________________________________________\n",
            "conv2d_26 (Conv2D)           (None, 24, 24, 12)        1308      \n",
            "_________________________________________________________________\n",
            "batch_normalization_19 (Batc (None, 24, 24, 12)        48        \n",
            "_________________________________________________________________\n",
            "conv2d_27 (Conv2D)           (None, 22, 22, 12)        1308      \n",
            "_________________________________________________________________\n",
            "conv2d_28 (Conv2D)           (None, 22, 22, 16)        208       \n",
            "_________________________________________________________________\n",
            "max_pooling2d_4 (MaxPooling2 (None, 11, 11, 16)        0         \n",
            "_________________________________________________________________\n",
            "batch_normalization_20 (Batc (None, 11, 11, 16)        64        \n",
            "_________________________________________________________________\n",
            "conv2d_29 (Conv2D)           (None, 9, 9, 12)          1740      \n",
            "_________________________________________________________________\n",
            "batch_normalization_21 (Batc (None, 9, 9, 12)          48        \n",
            "_________________________________________________________________\n",
            "conv2d_30 (Conv2D)           (None, 7, 7, 12)          1308      \n",
            "_________________________________________________________________\n",
            "batch_normalization_22 (Batc (None, 7, 7, 12)          48        \n",
            "_________________________________________________________________\n",
            "conv2d_31 (Conv2D)           (None, 5, 5, 16)          1744      \n",
            "_________________________________________________________________\n",
            "conv2d_32 (Conv2D)           (None, 1, 1, 10)          4010      \n",
            "_________________________________________________________________\n",
            "flatten_4 (Flatten)          (None, 10)                0         \n",
            "_________________________________________________________________\n",
            "activation_4 (Activation)    (None, 10)                0         \n",
            "=================================================================\n",
            "Total params: 12,002\n",
            "Trainable params: 11,874\n",
            "Non-trainable params: 128\n",
            "_________________________________________________________________\n"
          ],
          "name": "stdout"
        },
        {
          "output_type": "stream",
          "text": [
            "/usr/local/lib/python3.6/dist-packages/ipykernel_launcher.py:24: UserWarning: Update your `Conv2D` call to the Keras 2 API: `Conv2D(12, (3, 3), kernel_regularizer=<keras.reg..., bias_regularizer=<keras.reg..., activation=\"relu\")`\n",
            "/usr/local/lib/python3.6/dist-packages/ipykernel_launcher.py:27: UserWarning: Update your `Conv2D` call to the Keras 2 API: `Conv2D(16, (3, 3), kernel_regularizer=<keras.reg..., bias_regularizer=<keras.reg..., activation=\"relu\")`\n",
            "/usr/local/lib/python3.6/dist-packages/ipykernel_launcher.py:29: UserWarning: Update your `Conv2D` call to the Keras 2 API: `Conv2D(10, (5, 5))`\n"
          ],
          "name": "stderr"
        }
      ]
    },
    {
      "cell_type": "code",
      "metadata": {
        "id": "Zp6SuGrL9M3h",
        "colab_type": "code",
        "colab": {}
      },
      "source": [
        "# this is to compile the model \n",
        "#NOTE: we can use different loss function and optimizer\n",
        "from keras.optimizers import Adam\n",
        "from keras.callbacks import LearningRateScheduler\n",
        "def scheduler(epoch, lr):\n",
        "  return round(0.003 * 1/(1 + 0.319 * epoch), 10)\n",
        "\n",
        "model.compile(loss='categorical_crossentropy', optimizer=Adam(lr=0.003), metrics=['accuracy'])"
      ],
      "execution_count": 0,
      "outputs": []
    },
    {
      "cell_type": "code",
      "metadata": {
        "id": "4xWoKhPY9Of5",
        "colab_type": "code",
        "outputId": "8f240399-9f48-4f4d-f0bb-a6438764e82e",
        "colab": {
          "base_uri": "https://localhost:8080/",
          "height": 2772
        }
      },
      "source": [
        "#Here we diclared batch size of 256 so 10000/256 batches + declared 20 epoch\n",
        "model.fit(X_train, Y_train, batch_size=128, nb_epoch=40, verbose=1, validation_data=(X_test, Y_test), callbacks=[LearningRateScheduler(scheduler, verbose=1)])"
      ],
      "execution_count": 63,
      "outputs": [
        {
          "output_type": "stream",
          "text": [
            "/usr/local/lib/python3.6/dist-packages/ipykernel_launcher.py:1: UserWarning: The `nb_epoch` argument in `fit` has been renamed `epochs`.\n",
            "  \"\"\"Entry point for launching an IPython kernel.\n"
          ],
          "name": "stderr"
        },
        {
          "output_type": "stream",
          "text": [
            "Train on 60000 samples, validate on 10000 samples\n",
            "Epoch 1/40\n",
            "\n",
            "Epoch 00001: LearningRateScheduler setting learning rate to 0.003.\n",
            "60000/60000 [==============================] - 8s 131us/step - loss: 0.4095 - acc: 0.9478 - val_loss: 0.1904 - val_acc: 0.9683\n",
            "Epoch 2/40\n",
            "\n",
            "Epoch 00002: LearningRateScheduler setting learning rate to 0.0022744503.\n",
            "60000/60000 [==============================] - 5s 89us/step - loss: 0.1295 - acc: 0.9792 - val_loss: 0.1449 - val_acc: 0.9713\n",
            "Epoch 3/40\n",
            "\n",
            "Epoch 00003: LearningRateScheduler setting learning rate to 0.0018315018.\n",
            "60000/60000 [==============================] - 5s 89us/step - loss: 0.1034 - acc: 0.9827 - val_loss: 0.0923 - val_acc: 0.9851\n",
            "Epoch 4/40\n",
            "\n",
            "Epoch 00004: LearningRateScheduler setting learning rate to 0.0015329586.\n",
            "60000/60000 [==============================] - 5s 89us/step - loss: 0.0910 - acc: 0.9843 - val_loss: 0.0822 - val_acc: 0.9855\n",
            "Epoch 5/40\n",
            "\n",
            "Epoch 00005: LearningRateScheduler setting learning rate to 0.0013181019.\n",
            "60000/60000 [==============================] - 5s 88us/step - loss: 0.0826 - acc: 0.9860 - val_loss: 0.1166 - val_acc: 0.9757\n",
            "Epoch 6/40\n",
            "\n",
            "Epoch 00006: LearningRateScheduler setting learning rate to 0.0011560694.\n",
            "60000/60000 [==============================] - 5s 88us/step - loss: 0.0762 - acc: 0.9865 - val_loss: 0.0844 - val_acc: 0.9843\n",
            "Epoch 7/40\n",
            "\n",
            "Epoch 00007: LearningRateScheduler setting learning rate to 0.0010295127.\n",
            "60000/60000 [==============================] - 5s 90us/step - loss: 0.0674 - acc: 0.9886 - val_loss: 0.0695 - val_acc: 0.9879\n",
            "Epoch 8/40\n",
            "\n",
            "Epoch 00008: LearningRateScheduler setting learning rate to 0.0009279307.\n",
            "60000/60000 [==============================] - 5s 89us/step - loss: 0.0637 - acc: 0.9892 - val_loss: 0.0742 - val_acc: 0.9853\n",
            "Epoch 9/40\n",
            "\n",
            "Epoch 00009: LearningRateScheduler setting learning rate to 0.0008445946.\n",
            "60000/60000 [==============================] - 5s 90us/step - loss: 0.0603 - acc: 0.9897 - val_loss: 0.0746 - val_acc: 0.9854\n",
            "Epoch 10/40\n",
            "\n",
            "Epoch 00010: LearningRateScheduler setting learning rate to 0.0007749935.\n",
            "60000/60000 [==============================] - 5s 90us/step - loss: 0.0556 - acc: 0.9901 - val_loss: 0.0591 - val_acc: 0.9892\n",
            "Epoch 11/40\n",
            "\n",
            "Epoch 00011: LearningRateScheduler setting learning rate to 0.0007159905.\n",
            "60000/60000 [==============================] - 5s 90us/step - loss: 0.0548 - acc: 0.9904 - val_loss: 0.0577 - val_acc: 0.9902\n",
            "Epoch 12/40\n",
            "\n",
            "Epoch 00012: LearningRateScheduler setting learning rate to 0.000665336.\n",
            "60000/60000 [==============================] - 5s 89us/step - loss: 0.0517 - acc: 0.9910 - val_loss: 0.0588 - val_acc: 0.9882\n",
            "Epoch 13/40\n",
            "\n",
            "Epoch 00013: LearningRateScheduler setting learning rate to 0.0006213753.\n",
            "60000/60000 [==============================] - 5s 87us/step - loss: 0.0486 - acc: 0.9915 - val_loss: 0.0480 - val_acc: 0.9917\n",
            "Epoch 14/40\n",
            "\n",
            "Epoch 00014: LearningRateScheduler setting learning rate to 0.0005828638.\n",
            "60000/60000 [==============================] - 5s 88us/step - loss: 0.0445 - acc: 0.9924 - val_loss: 0.0535 - val_acc: 0.9899\n",
            "Epoch 15/40\n",
            "\n",
            "Epoch 00015: LearningRateScheduler setting learning rate to 0.0005488474.\n",
            "60000/60000 [==============================] - 5s 90us/step - loss: 0.0441 - acc: 0.9923 - val_loss: 0.0582 - val_acc: 0.9883\n",
            "Epoch 16/40\n",
            "\n",
            "Epoch 00016: LearningRateScheduler setting learning rate to 0.0005185825.\n",
            "60000/60000 [==============================] - 5s 91us/step - loss: 0.0437 - acc: 0.9922 - val_loss: 0.0511 - val_acc: 0.9899\n",
            "Epoch 17/40\n",
            "\n",
            "Epoch 00017: LearningRateScheduler setting learning rate to 0.000491481.\n",
            "60000/60000 [==============================] - 5s 91us/step - loss: 0.0405 - acc: 0.9929 - val_loss: 0.0495 - val_acc: 0.9900\n",
            "Epoch 18/40\n",
            "\n",
            "Epoch 00018: LearningRateScheduler setting learning rate to 0.0004670715.\n",
            "60000/60000 [==============================] - 5s 88us/step - loss: 0.0394 - acc: 0.9935 - val_loss: 0.0642 - val_acc: 0.9860\n",
            "Epoch 19/40\n",
            "\n",
            "Epoch 00019: LearningRateScheduler setting learning rate to 0.0004449718.\n",
            "60000/60000 [==============================] - 5s 87us/step - loss: 0.0375 - acc: 0.9936 - val_loss: 0.0471 - val_acc: 0.9906\n",
            "Epoch 20/40\n",
            "\n",
            "Epoch 00020: LearningRateScheduler setting learning rate to 0.000424869.\n",
            "60000/60000 [==============================] - 5s 88us/step - loss: 0.0366 - acc: 0.9941 - val_loss: 0.0457 - val_acc: 0.9905\n",
            "Epoch 21/40\n",
            "\n",
            "Epoch 00021: LearningRateScheduler setting learning rate to 0.0004065041.\n",
            "60000/60000 [==============================] - 5s 88us/step - loss: 0.0354 - acc: 0.9941 - val_loss: 0.0516 - val_acc: 0.9894\n",
            "Epoch 22/40\n",
            "\n",
            "Epoch 00022: LearningRateScheduler setting learning rate to 0.000389661.\n",
            "60000/60000 [==============================] - 5s 87us/step - loss: 0.0343 - acc: 0.9943 - val_loss: 0.0407 - val_acc: 0.9919\n",
            "Epoch 23/40\n",
            "\n",
            "Epoch 00023: LearningRateScheduler setting learning rate to 0.0003741581.\n",
            "60000/60000 [==============================] - 5s 87us/step - loss: 0.0332 - acc: 0.9947 - val_loss: 0.0428 - val_acc: 0.9922\n",
            "Epoch 24/40\n",
            "\n",
            "Epoch 00024: LearningRateScheduler setting learning rate to 0.0003598417.\n",
            "60000/60000 [==============================] - 5s 87us/step - loss: 0.0315 - acc: 0.9949 - val_loss: 0.0425 - val_acc: 0.9915\n",
            "Epoch 25/40\n",
            "\n",
            "Epoch 00025: LearningRateScheduler setting learning rate to 0.0003465804.\n",
            "60000/60000 [==============================] - 5s 87us/step - loss: 0.0322 - acc: 0.9949 - val_loss: 0.0374 - val_acc: 0.9923\n",
            "Epoch 26/40\n",
            "\n",
            "Epoch 00026: LearningRateScheduler setting learning rate to 0.0003342618.\n",
            "60000/60000 [==============================] - 5s 87us/step - loss: 0.0308 - acc: 0.9950 - val_loss: 0.0429 - val_acc: 0.9901\n",
            "Epoch 27/40\n",
            "\n",
            "Epoch 00027: LearningRateScheduler setting learning rate to 0.0003227889.\n",
            "60000/60000 [==============================] - 5s 87us/step - loss: 0.0300 - acc: 0.9953 - val_loss: 0.0407 - val_acc: 0.9920\n",
            "Epoch 28/40\n",
            "\n",
            "Epoch 00028: LearningRateScheduler setting learning rate to 0.0003120774.\n",
            "60000/60000 [==============================] - 5s 87us/step - loss: 0.0291 - acc: 0.9954 - val_loss: 0.0407 - val_acc: 0.9918\n",
            "Epoch 29/40\n",
            "\n",
            "Epoch 00029: LearningRateScheduler setting learning rate to 0.000302054.\n",
            "60000/60000 [==============================] - 5s 87us/step - loss: 0.0285 - acc: 0.9951 - val_loss: 0.0385 - val_acc: 0.9922\n",
            "Epoch 30/40\n",
            "\n",
            "Epoch 00030: LearningRateScheduler setting learning rate to 0.0002926544.\n",
            "60000/60000 [==============================] - 5s 88us/step - loss: 0.0267 - acc: 0.9961 - val_loss: 0.0377 - val_acc: 0.9923\n",
            "Epoch 31/40\n",
            "\n",
            "Epoch 00031: LearningRateScheduler setting learning rate to 0.0002838221.\n",
            "60000/60000 [==============================] - 5s 88us/step - loss: 0.0272 - acc: 0.9958 - val_loss: 0.0430 - val_acc: 0.9908\n",
            "Epoch 32/40\n",
            "\n",
            "Epoch 00032: LearningRateScheduler setting learning rate to 0.0002755074.\n",
            "60000/60000 [==============================] - 5s 87us/step - loss: 0.0261 - acc: 0.9962 - val_loss: 0.0379 - val_acc: 0.9923\n",
            "Epoch 33/40\n",
            "\n",
            "Epoch 00033: LearningRateScheduler setting learning rate to 0.000267666.\n",
            "60000/60000 [==============================] - 5s 86us/step - loss: 0.0256 - acc: 0.9961 - val_loss: 0.0362 - val_acc: 0.9922\n",
            "Epoch 34/40\n",
            "\n",
            "Epoch 00034: LearningRateScheduler setting learning rate to 0.0002602585.\n",
            "60000/60000 [==============================] - 5s 86us/step - loss: 0.0256 - acc: 0.9960 - val_loss: 0.0365 - val_acc: 0.9926\n",
            "Epoch 35/40\n",
            "\n",
            "Epoch 00035: LearningRateScheduler setting learning rate to 0.00025325.\n",
            "60000/60000 [==============================] - 5s 87us/step - loss: 0.0247 - acc: 0.9966 - val_loss: 0.0366 - val_acc: 0.9926\n",
            "Epoch 36/40\n",
            "\n",
            "Epoch 00036: LearningRateScheduler setting learning rate to 0.0002466091.\n",
            "60000/60000 [==============================] - 5s 86us/step - loss: 0.0242 - acc: 0.9964 - val_loss: 0.0360 - val_acc: 0.9930\n",
            "Epoch 37/40\n",
            "\n",
            "Epoch 00037: LearningRateScheduler setting learning rate to 0.0002403076.\n",
            "60000/60000 [==============================] - 5s 86us/step - loss: 0.0235 - acc: 0.9968 - val_loss: 0.0355 - val_acc: 0.9924\n",
            "Epoch 38/40\n",
            "\n",
            "Epoch 00038: LearningRateScheduler setting learning rate to 0.0002343201.\n",
            "60000/60000 [==============================] - 5s 87us/step - loss: 0.0233 - acc: 0.9968 - val_loss: 0.0351 - val_acc: 0.9925\n",
            "Epoch 39/40\n",
            "\n",
            "Epoch 00039: LearningRateScheduler setting learning rate to 0.0002286237.\n",
            "60000/60000 [==============================] - 5s 86us/step - loss: 0.0217 - acc: 0.9973 - val_loss: 0.0368 - val_acc: 0.9926\n",
            "Epoch 40/40\n",
            "\n",
            "Epoch 00040: LearningRateScheduler setting learning rate to 0.0002231977.\n",
            "60000/60000 [==============================] - 5s 86us/step - loss: 0.0216 - acc: 0.9973 - val_loss: 0.0324 - val_acc: 0.9933\n"
          ],
          "name": "stdout"
        },
        {
          "output_type": "execute_result",
          "data": {
            "text/plain": [
              "<keras.callbacks.History at 0x7f9be89d5a20>"
            ]
          },
          "metadata": {
            "tags": []
          },
          "execution_count": 63
        }
      ]
    },
    {
      "cell_type": "code",
      "metadata": {
        "id": "AtsH-lLk-eLb",
        "colab_type": "code",
        "colab": {}
      },
      "source": [
        "mcp_save = ModelCheckpoint('.mdl_wts.hdf5', save_best_only=True, monitor='val_loss', mode='min')\n",
        "\n",
        "#evaluate the model \n",
        "score = model.evaluate(X_test, Y_test, verbose=0)"
      ],
      "execution_count": 0,
      "outputs": []
    },
    {
      "cell_type": "code",
      "metadata": {
        "id": "mkX8JMv79q9r",
        "colab_type": "code",
        "outputId": "9f0aeaab-dd86-4db5-dd13-87341659df7b",
        "colab": {
          "base_uri": "https://localhost:8080/",
          "height": 34
        }
      },
      "source": [
        "#print the score\n",
        "print(score)"
      ],
      "execution_count": 65,
      "outputs": [
        {
          "output_type": "stream",
          "text": [
            "[0.032372621902823445, 0.9933]\n"
          ],
          "name": "stdout"
        }
      ]
    },
    {
      "cell_type": "markdown",
      "metadata": {
        "id": "BkQqChiktBjs",
        "colab_type": "text"
      },
      "source": [
        "### **OBSERVATION** \n",
        "    we achieved 99.40 validation accuracy at 19th epoch with 12K parameters and 99.35 at end\n",
        "        \n",
        "    Used batch normalization and LR schedular and sticked to batch size of 128\n",
        "\n"
      ]
    },
    {
      "cell_type": "code",
      "metadata": {
        "id": "OCWoJkwE9suh",
        "colab_type": "code",
        "colab": {}
      },
      "source": [
        "#Predict the number present in X_test \n",
        "y_pred = model.predict(X_test)"
      ],
      "execution_count": 0,
      "outputs": []
    },
    {
      "cell_type": "code",
      "metadata": {
        "id": "Ym7iCFBm9uBs",
        "colab_type": "code",
        "outputId": "085dd263-b55c-4e29-c522-2a2fa78a20b0",
        "colab": {
          "base_uri": "https://localhost:8080/",
          "height": 336
        }
      },
      "source": [
        "#y_pred is predected value y_test is actual test value.\n",
        "print(y_pred[:9])\n",
        "print(y_test[:9])"
      ],
      "execution_count": 67,
      "outputs": [
        {
          "output_type": "stream",
          "text": [
            "[[4.3835915e-13 1.1642705e-10 1.2342694e-07 2.2216743e-07 8.3557222e-10\n",
            "  5.0154179e-11 2.6821830e-16 9.9999833e-01 7.0230669e-11 1.3409699e-06]\n",
            " [9.4721358e-08 1.0632288e-06 9.9999690e-01 1.9883135e-08 1.0849810e-08\n",
            "  2.9535496e-09 1.8144195e-06 5.2288801e-10 1.3214674e-07 1.5963739e-10]\n",
            " [3.9979245e-10 9.9989712e-01 2.5893303e-07 8.5749816e-09 1.1046102e-05\n",
            "  9.6615258e-07 7.9274344e-08 9.0304653e-05 8.7682622e-08 1.3974943e-07]\n",
            " [9.9999344e-01 3.0547769e-14 1.4108890e-08 3.7908796e-09 6.6525341e-11\n",
            "  4.4457217e-08 6.2555337e-06 3.6496011e-11 1.6131409e-07 2.5603411e-08]\n",
            " [2.3161371e-10 6.8905359e-10 4.3636188e-08 1.1737701e-10 9.9997437e-01\n",
            "  2.4047339e-10 1.4820266e-08 1.1940117e-09 4.3332156e-07 2.5194875e-05]\n",
            " [6.0905114e-10 9.9970371e-01 1.5378997e-07 7.0756595e-11 1.5606736e-05\n",
            "  4.0474053e-08 6.0609411e-09 2.8041983e-04 2.7998901e-08 8.4381888e-08]\n",
            " [1.5103453e-14 3.3739767e-08 6.1672587e-09 4.4893980e-10 9.9998415e-01\n",
            "  6.9210110e-08 5.2459146e-14 3.5122143e-06 5.0518207e-07 1.1717748e-05]\n",
            " [1.9236164e-07 2.0574006e-10 3.1845718e-06 1.8820626e-06 3.9720024e-05\n",
            "  1.9293322e-05 2.3901295e-10 4.9149733e-08 1.8135312e-05 9.9991751e-01]\n",
            " [1.0634867e-06 3.0893091e-10 7.4195130e-09 1.8201252e-08 6.3594434e-12\n",
            "  9.9851722e-01 1.0815816e-03 1.8043228e-11 3.8868745e-04 1.1444981e-05]]\n",
            "[7 2 1 0 4 1 4 9 5]\n"
          ],
          "name": "stdout"
        }
      ]
    },
    {
      "cell_type": "code",
      "metadata": {
        "id": "9tvptcn8dxvp",
        "colab_type": "code",
        "colab": {}
      },
      "source": [
        ""
      ],
      "execution_count": 0,
      "outputs": []
    }
  ]
}